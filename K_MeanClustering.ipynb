{
  "nbformat": 4,
  "nbformat_minor": 0,
  "metadata": {
    "colab": {
      "name": "K-MeanClustering.ipynb",
      "provenance": [],
      "authorship_tag": "ABX9TyNAo4juyqZhUKmPrMYKkRzO",
      "include_colab_link": true
    },
    "kernelspec": {
      "name": "python3",
      "display_name": "Python 3"
    }
  },
  "cells": [
    {
      "cell_type": "markdown",
      "metadata": {
        "id": "view-in-github",
        "colab_type": "text"
      },
      "source": [
        "<a href=\"https://colab.research.google.com/github/alfarizky1009/K-Mean-Clustering/blob/master/K_MeanClustering.ipynb\" target=\"_parent\"><img src=\"https://colab.research.google.com/assets/colab-badge.svg\" alt=\"Open In Colab\"/></a>"
      ]
    },
    {
      "cell_type": "code",
      "metadata": {
        "id": "hjnEHFO7FV_N",
        "colab_type": "code",
        "colab": {}
      },
      "source": [
        "%matplotlib inline\n",
        "import numpy as np\n",
        "import matplotlib.pyplot as plt\n",
        "import pandas as pd"
      ],
      "execution_count": 0,
      "outputs": []
    },
    {
      "cell_type": "code",
      "metadata": {
        "id": "gN3L10hLFX_o",
        "colab_type": "code",
        "colab": {}
      },
      "source": [
        "df = pd.DataFrame({\n",
        "    'x' : [12, 20, 28, 26, 29, 33, 24, 45, 49, 52, 51, 52, 55, 53, 24, 61, 64, 69, 72],\n",
        "    'y' : [39, 36, 30, 8, 54, 46, 55, 5, 13, 70, 66, 63, 58, 62, 14, 85, 19, 7, 24]\n",
        "})"
      ],
      "execution_count": 0,
      "outputs": []
    },
    {
      "cell_type": "code",
      "metadata": {
        "id": "Xf5o4xcPFP9z",
        "colab_type": "code",
        "colab": {}
      },
      "source": [
        "from sklearn.cluster import KMeans\n",
        "kmeans = KMeans(n_clusters=3)\n",
        "kmeans.fit(df)\n",
        "y_kmeans = kmeans.predict(df)"
      ],
      "execution_count": 0,
      "outputs": []
    },
    {
      "cell_type": "code",
      "metadata": {
        "id": "hCASJdWxFblw",
        "colab_type": "code",
        "colab": {
          "base_uri": "https://localhost:8080/",
          "height": 265
        },
        "outputId": "7bade297-ad67-4607-f94f-fc1da6ac1993"
      },
      "source": [
        "df = np.array(df)\n",
        "plt.scatter(df[y_kmeans == 0, 0], df[y_kmeans == 0,1],s = 100, c='red', label = 'Cluster 1')\n",
        "plt.scatter(df[y_kmeans == 1, 0], df[y_kmeans == 1,1],s = 100, c='blue', label = 'Cluster 2')\n",
        "plt.scatter(df[y_kmeans == 1, 1], df[y_kmeans == 1,1],s = 100, c='green', label = 'Cluster 3')\n",
        "plt.scatter(kmeans.cluster_centers_[:,0], kmeans.cluster_centers_[:,1], s = 200, c = 'yellow', label = 'Centroids')\n",
        "plt.legend()\n",
        "plt.show()"
      ],
      "execution_count": 14,
      "outputs": [
        {
          "output_type": "display_data",
          "data": {
            "image/png": "[encoded data removed]",
            "text/plain": [
              "<Figure size 432x288 with 1 Axes>"
            ]
          },
          "metadata": {
            "tags": []
          }
        }
      ]
    }
  ]
}